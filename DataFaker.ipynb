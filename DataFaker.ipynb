{
 "cells": [
  {
   "cell_type": "code",
   "execution_count": 1,
   "id": "swiss-sheffield",
   "metadata": {
    "tags": []
   },
   "outputs": [],
   "source": [
    "import numpy as np\n",
    "import pandas as pd\n",
    "\n",
    "from matplotlib import pyplot as plt\n"
   ]
  },
  {
   "cell_type": "code",
   "execution_count": 15,
   "id": "42b309d4-f1d3-42af-8638-076c132d70a3",
   "metadata": {},
   "outputs": [
    {
     "name": "stdin",
     "output_type": "stream",
     "text": [
      "Enter Start:     2021-07-04\n"
     ]
    }
   ],
   "source": [
    "start = input('Enter Start:    ')\n",
    "start = np.datetime64(start)"
   ]
  },
  {
   "cell_type": "code",
   "execution_count": 21,
   "id": "visible-machinery",
   "metadata": {},
   "outputs": [
    {
     "data": {
      "text/plain": [
       "array([   2,    4,    8, ..., 5199, 5203, 5208])"
      ]
     },
     "execution_count": 21,
     "metadata": {},
     "output_type": "execute_result"
    }
   ],
   "source": [
    "seconds = np.random.randint(2, 6, 1500).cumsum()\n",
    "seconds"
   ]
  },
  {
   "cell_type": "code",
   "execution_count": 30,
   "id": "beneficial-layer",
   "metadata": {
    "tags": []
   },
   "outputs": [],
   "source": [
    "timestamps = [start + np.timedelta64(s, 's') for s in seconds]\n"
   ]
  },
  {
   "cell_type": "code",
   "execution_count": 23,
   "id": "vocal-measure",
   "metadata": {},
   "outputs": [
    {
     "data": {
      "text/plain": [
       "1500"
      ]
     },
     "execution_count": 23,
     "metadata": {},
     "output_type": "execute_result"
    }
   ],
   "source": [
    "len(timestamps)"
   ]
  },
  {
   "cell_type": "code",
   "execution_count": 24,
   "id": "british-liechtenstein",
   "metadata": {},
   "outputs": [],
   "source": [
    "indexes = np.arange(1, len(timestamps)+1)\n",
    "fake_power = np.log(indexes)"
   ]
  },
  {
   "cell_type": "code",
   "execution_count": 25,
   "id": "tested-hybrid",
   "metadata": {},
   "outputs": [
    {
     "data": {
      "text/plain": [
       "[<matplotlib.lines.Line2D at 0x7fb891342850>]"
      ]
     },
     "execution_count": 25,
     "metadata": {},
     "output_type": "execute_result"
    },
    {
     "data": {
      "image/png": "[encoded data removed]",
      "text/plain": [
       "<Figure size 432x288 with 1 Axes>"
      ]
     },
     "metadata": {
      "needs_background": "light"
     },
     "output_type": "display_data"
    }
   ],
   "source": [
    "plt.plot(timestamps, fake_power)"
   ]
  },
  {
   "cell_type": "code",
   "execution_count": 26,
   "id": "boxed-vinyl",
   "metadata": {},
   "outputs": [
    {
     "data": {
      "text/html": [
       "<div>\n",
       "<style scoped>\n",
       "    .dataframe tbody tr th:only-of-type {\n",
       "        vertical-align: middle;\n",
       "    }\n",
       "\n",
       "    .dataframe tbody tr th {\n",
       "        vertical-align: top;\n",
       "    }\n",
       "\n",
       "    .dataframe thead th {\n",
       "        text-align: right;\n",
       "    }\n",
       "</style>\n",
       "<table border=\"1\" class=\"dataframe\">\n",
       "  <thead>\n",
       "    <tr style=\"text-align: right;\">\n",
       "      <th></th>\n",
       "      <th>TimeStamp</th>\n",
       "      <th>Power</th>\n",
       "    </tr>\n",
       "  </thead>\n",
       "  <tbody>\n",
       "    <tr>\n",
       "      <th>0</th>\n",
       "      <td>2021-07-04 00:00:02</td>\n",
       "      <td>0.000000</td>\n",
       "    </tr>\n",
       "    <tr>\n",
       "      <th>1</th>\n",
       "      <td>2021-07-04 00:00:04</td>\n",
       "      <td>0.693147</td>\n",
       "    </tr>\n",
       "    <tr>\n",
       "      <th>2</th>\n",
       "      <td>2021-07-04 00:00:08</td>\n",
       "      <td>1.098612</td>\n",
       "    </tr>\n",
       "    <tr>\n",
       "      <th>3</th>\n",
       "      <td>2021-07-04 00:00:13</td>\n",
       "      <td>1.386294</td>\n",
       "    </tr>\n",
       "    <tr>\n",
       "      <th>4</th>\n",
       "      <td>2021-07-04 00:00:15</td>\n",
       "      <td>1.609438</td>\n",
       "    </tr>\n",
       "    <tr>\n",
       "      <th>...</th>\n",
       "      <td>...</td>\n",
       "      <td>...</td>\n",
       "    </tr>\n",
       "    <tr>\n",
       "      <th>1495</th>\n",
       "      <td>2021-07-04 01:26:32</td>\n",
       "      <td>7.310550</td>\n",
       "    </tr>\n",
       "    <tr>\n",
       "      <th>1496</th>\n",
       "      <td>2021-07-04 01:26:37</td>\n",
       "      <td>7.311218</td>\n",
       "    </tr>\n",
       "    <tr>\n",
       "      <th>1497</th>\n",
       "      <td>2021-07-04 01:26:39</td>\n",
       "      <td>7.311886</td>\n",
       "    </tr>\n",
       "    <tr>\n",
       "      <th>1498</th>\n",
       "      <td>2021-07-04 01:26:43</td>\n",
       "      <td>7.312553</td>\n",
       "    </tr>\n",
       "    <tr>\n",
       "      <th>1499</th>\n",
       "      <td>2021-07-04 01:26:48</td>\n",
       "      <td>7.313220</td>\n",
       "    </tr>\n",
       "  </tbody>\n",
       "</table>\n",
       "<p>1500 rows × 2 columns</p>\n",
       "</div>"
      ],
      "text/plain": [
       "               TimeStamp     Power\n",
       "0    2021-07-04 00:00:02  0.000000\n",
       "1    2021-07-04 00:00:04  0.693147\n",
       "2    2021-07-04 00:00:08  1.098612\n",
       "3    2021-07-04 00:00:13  1.386294\n",
       "4    2021-07-04 00:00:15  1.609438\n",
       "...                  ...       ...\n",
       "1495 2021-07-04 01:26:32  7.310550\n",
       "1496 2021-07-04 01:26:37  7.311218\n",
       "1497 2021-07-04 01:26:39  7.311886\n",
       "1498 2021-07-04 01:26:43  7.312553\n",
       "1499 2021-07-04 01:26:48  7.313220\n",
       "\n",
       "[1500 rows x 2 columns]"
      ]
     },
     "execution_count": 26,
     "metadata": {},
     "output_type": "execute_result"
    }
   ],
   "source": [
    "df = pd.DataFrame({'TimeStamp': timestamps, 'Power': fake_power})\n",
    "df"
   ]
  },
  {
   "cell_type": "code",
   "execution_count": 27,
   "id": "interim-poison",
   "metadata": {},
   "outputs": [
    {
     "data": {
      "text/plain": [
       "<AxesSubplot:xlabel='TimeStamp'>"
      ]
     },
     "execution_count": 27,
     "metadata": {},
     "output_type": "execute_result"
    },
    {
     "data": {
      "image/png": "[encoded data removed]",
      "text/plain": [
       "<Figure size 432x288 with 1 Axes>"
      ]
     },
     "metadata": {
      "needs_background": "light"
     },
     "output_type": "display_data"
    }
   ],
   "source": [
    "df.plot(x='TimeStamp', y='Power')"
   ]
  },
  {
   "cell_type": "code",
   "execution_count": 28,
   "id": "champion-official",
   "metadata": {},
   "outputs": [
    {
     "data": {
      "text/plain": [
       "[<matplotlib.lines.Line2D at 0x7fb890cb09a0>]"
      ]
     },
     "execution_count": 28,
     "metadata": {},
     "output_type": "execute_result"
    },
    {
     "data": {
      "image/png": "[encoded data removed]",
      "text/plain": [
       "<Figure size 432x288 with 1 Axes>"
      ]
     },
     "metadata": {
      "needs_background": "light"
     },
     "output_type": "display_data"
    }
   ],
   "source": [
    "noise = (np.random.randn(1500) - 0.5) / 5\n",
    "plt.plot(noise)"
   ]
  },
  {
   "cell_type": "code",
   "execution_count": 29,
   "id": "sorted-coverage",
   "metadata": {},
   "outputs": [
    {
     "data": {
      "text/plain": [
       "<AxesSubplot:xlabel='TimeStamp'>"
      ]
     },
     "execution_count": 29,
     "metadata": {},
     "output_type": "execute_result"
    },
    {
     "data": {
      "image/png": "[encoded data removed]",
      "text/plain": [
       "<Figure size 432x288 with 1 Axes>"
      ]
     },
     "metadata": {
      "needs_background": "light"
     },
     "output_type": "display_data"
    }
   ],
   "source": [
    "df['Power'] += noise\n",
    "df.plot(x='TimeStamp', y='Power')"
   ]
  },
  {
   "cell_type": "code",
   "execution_count": 12,
   "id": "double-quarterly",
   "metadata": {},
   "outputs": [
    {
     "data": {
      "text/html": [
       "<div>\n",
       "<style scoped>\n",
       "    .dataframe tbody tr th:only-of-type {\n",
       "        vertical-align: middle;\n",
       "    }\n",
       "\n",
       "    .dataframe tbody tr th {\n",
       "        vertical-align: top;\n",
       "    }\n",
       "\n",
       "    .dataframe thead th {\n",
       "        text-align: right;\n",
       "    }\n",
       "</style>\n",
       "<table border=\"1\" class=\"dataframe\">\n",
       "  <thead>\n",
       "    <tr style=\"text-align: right;\">\n",
       "      <th></th>\n",
       "      <th>TimeStamp</th>\n",
       "      <th>Power</th>\n",
       "    </tr>\n",
       "  </thead>\n",
       "  <tbody>\n",
       "    <tr>\n",
       "      <th>0</th>\n",
       "      <td>2021-07-04 09:00:03</td>\n",
       "      <td>-0.304583</td>\n",
       "    </tr>\n",
       "    <tr>\n",
       "      <th>1</th>\n",
       "      <td>2021-07-04 09:00:07</td>\n",
       "      <td>0.286029</td>\n",
       "    </tr>\n",
       "    <tr>\n",
       "      <th>2</th>\n",
       "      <td>2021-07-04 09:00:11</td>\n",
       "      <td>1.307527</td>\n",
       "    </tr>\n",
       "    <tr>\n",
       "      <th>3</th>\n",
       "      <td>2021-07-04 09:00:16</td>\n",
       "      <td>1.333183</td>\n",
       "    </tr>\n",
       "    <tr>\n",
       "      <th>4</th>\n",
       "      <td>2021-07-04 09:00:20</td>\n",
       "      <td>1.654033</td>\n",
       "    </tr>\n",
       "    <tr>\n",
       "      <th>...</th>\n",
       "      <td>...</td>\n",
       "      <td>...</td>\n",
       "    </tr>\n",
       "    <tr>\n",
       "      <th>1495</th>\n",
       "      <td>2021-07-04 10:28:49</td>\n",
       "      <td>7.186372</td>\n",
       "    </tr>\n",
       "    <tr>\n",
       "      <th>1496</th>\n",
       "      <td>2021-07-04 10:28:51</td>\n",
       "      <td>7.525232</td>\n",
       "    </tr>\n",
       "    <tr>\n",
       "      <th>1497</th>\n",
       "      <td>2021-07-04 10:28:56</td>\n",
       "      <td>7.395842</td>\n",
       "    </tr>\n",
       "    <tr>\n",
       "      <th>1498</th>\n",
       "      <td>2021-07-04 10:28:59</td>\n",
       "      <td>7.242776</td>\n",
       "    </tr>\n",
       "    <tr>\n",
       "      <th>1499</th>\n",
       "      <td>2021-07-04 10:29:01</td>\n",
       "      <td>7.541695</td>\n",
       "    </tr>\n",
       "  </tbody>\n",
       "</table>\n",
       "<p>1500 rows × 2 columns</p>\n",
       "</div>"
      ],
      "text/plain": [
       "               TimeStamp     Power\n",
       "0    2021-07-04 09:00:03 -0.304583\n",
       "1    2021-07-04 09:00:07  0.286029\n",
       "2    2021-07-04 09:00:11  1.307527\n",
       "3    2021-07-04 09:00:16  1.333183\n",
       "4    2021-07-04 09:00:20  1.654033\n",
       "...                  ...       ...\n",
       "1495 2021-07-04 10:28:49  7.186372\n",
       "1496 2021-07-04 10:28:51  7.525232\n",
       "1497 2021-07-04 10:28:56  7.395842\n",
       "1498 2021-07-04 10:28:59  7.242776\n",
       "1499 2021-07-04 10:29:01  7.541695\n",
       "\n",
       "[1500 rows x 2 columns]"
      ]
     },
     "execution_count": 12,
     "metadata": {},
     "output_type": "execute_result"
    }
   ],
   "source": [
    "df"
   ]
  },
  {
   "cell_type": "code",
   "execution_count": 13,
   "id": "geographic-qatar",
   "metadata": {},
   "outputs": [],
   "source": [
    "df.to_csv('test.csv', index=False)"
   ]
  },
  {
   "cell_type": "code",
   "execution_count": 14,
   "id": "congressional-charger",
   "metadata": {},
   "outputs": [],
   "source": [
    "df.to_excel('power.xlsx', index=False)"
   ]
  },
  {
   "cell_type": "code",
   "execution_count": null,
   "id": "developing-rental",
   "metadata": {},
   "outputs": [],
   "source": []
  }
 ],
 "metadata": {
  "kernelspec": {
   "display_name": "Python 3",
   "language": "python",
   "name": "python3"
  },
  "language_info": {
   "codemirror_mode": {
    "name": "ipython",
    "version": 3
   },
   "file_extension": ".py",
   "mimetype": "text/x-python",
   "name": "python",
   "nbconvert_exporter": "python",
   "pygments_lexer": "ipython3",
   "version": "3.8.8"
  }
 },
 "nbformat": 4,
 "nbformat_minor": 5
}
